{
 "cells": [
  {
   "cell_type": "code",
   "execution_count": 1,
   "metadata": {},
   "outputs": [
    {
     "name": "stdout",
     "output_type": "stream",
     "text": [
      "Enter number of vertex: 5\n",
      "Enter no of edges: 7\n",
      "Enter edges: \n",
      "1 5\n",
      "1 3\n",
      "1 4\n",
      "2 3\n",
      "5 6\n",
      "0 2\n",
      "1 7\n",
      "Enter src vertex: 1\n",
      "Enter target vertex: 7\n",
      "Enter maxDepth: 5\n",
      "Can reach\n"
     ]
    }
   ],
   "source": [
    "from collections import defaultdict\n",
    "\n",
    "class Graph:\n",
    "    def __init__(self,vertices):\n",
    "        self.noOfVertex = vertices\n",
    "        self.graph = defaultdict(list)\n",
    "\n",
    "    def addEdge(self,start,end):\n",
    "        self.graph[start].append(end)\n",
    "\n",
    "    def search(self,src,target,maxDepth):\n",
    "        if src == target:\n",
    "            return True\n",
    "        \n",
    "        if maxDepth<=0:\n",
    "            return False\n",
    "        \n",
    "        for i in self.graph[src]:\n",
    "            if self.search(i,target,maxDepth-1):\n",
    "                return True\n",
    "        \n",
    "        return False\n",
    "\n",
    "    def iterativeSearch(self,src,target,maxDepth):\n",
    "        for i in range(maxDepth):\n",
    "            if self.search(src,target,i):\n",
    "                return True\n",
    "        \n",
    "        return False\n",
    "\n",
    "if __name__ == \"__main__\":\n",
    "    print(\"Enter number of vertex: \",end=\"\")\n",
    "    n = int(input())\n",
    "\n",
    "    g = Graph(n)\n",
    "\n",
    "    print(\"Enter no of edges: \",end=\"\")\n",
    "    noOfEdge = int(input())\n",
    "\n",
    "    print(\"Enter edges: \")\n",
    "\n",
    "    for i in range(noOfEdge):\n",
    "        edge = list(map(int, input().split(\" \")))\n",
    "        g.addEdge(edge[0],edge[1])\n",
    "\n",
    "    print(\"Enter src vertex: \",end=\"\")\n",
    "    src = int(input())\n",
    "\n",
    "    print(\"Enter target vertex: \",end=\"\")\n",
    "    target = int(input())\n",
    "\n",
    "    print(\"Enter maxDepth: \",end=\"\")\n",
    "    maxDepth = int(input())\n",
    "\n",
    "    if g.iterativeSearch(src,target,maxDepth):\n",
    "        print(\"Can reach\")\n",
    "    else:\n",
    "        print(\"Cannot reach\")"
   ]
  },
  {
   "cell_type": "code",
   "execution_count": null,
   "metadata": {},
   "outputs": [],
   "source": []
  }
 ],
 "metadata": {
  "kernelspec": {
   "display_name": "Python 3",
   "language": "python",
   "name": "python3"
  },
  "language_info": {
   "codemirror_mode": {
    "name": "ipython",
    "version": 3
   },
   "file_extension": ".py",
   "mimetype": "text/x-python",
   "name": "python",
   "nbconvert_exporter": "python",
   "pygments_lexer": "ipython3",
   "version": "3.8.3"
  }
 },
 "nbformat": 4,
 "nbformat_minor": 4
}
